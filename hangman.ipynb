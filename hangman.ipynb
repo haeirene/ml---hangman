{
 "cells": [
  {
   "cell_type": "markdown",
   "id": "90dc2d1b",
   "metadata": {},
   "source": [
    "# 0. Figuring out logic"
   ]
  },
  {
   "cell_type": "code",
   "execution_count": 97,
   "id": "b33ba733",
   "metadata": {},
   "outputs": [],
   "source": [
    "chosen_word = []\n",
    "guessed_word = []\n",
    "mistakes = 0"
   ]
  },
  {
   "cell_type": "code",
   "execution_count": 98,
   "id": "8bcd77aa",
   "metadata": {},
   "outputs": [],
   "source": [
    "# Count how many letters need to be guessed\n",
    "def count_letters():\n",
    "    total = 0\n",
    "    \n",
    "    # i = char in word\n",
    "    for i in chosen_word:\n",
    "        if(i != \" \"):\n",
    "            total += 1\n",
    "    \n",
    "    return total"
   ]
  },
  {
   "cell_type": "code",
   "execution_count": 99,
   "id": "1b110688",
   "metadata": {},
   "outputs": [],
   "source": [
    "# Convert the each letter to an unrecognizable word that the player can guess\n",
    "def convert_chosen_word_to_be_guessed(convert_word):\n",
    "    for i in convert_word:\n",
    "        if(i == \" \"):\n",
    "            chosen_word.append(' ')\n",
    "            guessed_word.append(' ')\n",
    "        else:\n",
    "            chosen_word.append(i)\n",
    "            guessed_word.append('_')\n",
    "        "
   ]
  },
  {
   "cell_type": "code",
   "execution_count": 100,
   "id": "7849d6c1",
   "metadata": {},
   "outputs": [],
   "source": [
    "def make_a_guess(guessed_letter):\n",
    "    has_letter_been_found = False\n",
    "    \n",
    "    for i in chosen_word:\n",
    "        # No space and the letter is in the word\n",
    "        if(i != \" \"):\n",
    "            if(i == guessed_letter):\n",
    "                has_letter_been_found = True\n",
    "                \n",
    "                # Break statement stops the loop\n",
    "                break\n",
    "            \n",
    "    return has_letter_been_found"
   ]
  },
  {
   "cell_type": "code",
   "execution_count": 101,
   "id": "f1db1b13",
   "metadata": {},
   "outputs": [],
   "source": [
    "def try_revealing_letters_in_guessed_word(guessed_letter):\n",
    "    is_guessed = make_a_guess(guessed_letter)\n",
    "    \n",
    "    # We reveal the letters when the guess was succesfull\n",
    "    if(is_guessed):\n",
    "        for idx, i in enumerate(chosen_word):\n",
    "            if(i == guessed_letter):\n",
    "                guessed_word[idx] = guessed_letter\n",
    "    \n",
    "    return is_guessed\n",
    "    "
   ]
  },
  {
   "cell_type": "code",
   "execution_count": 102,
   "id": "1fd9f7a4",
   "metadata": {},
   "outputs": [],
   "source": [
    "def guess(guessed_letter):\n",
    "    # access the global name variable\n",
    "    global mistakes\n",
    "    \n",
    "    is_guessed = try_revealing_letters_in_guessed_word(guessed_letter)\n",
    "    \n",
    "    if(is_guessed == False):\n",
    "        mistakes += 1"
   ]
  },
  {
   "cell_type": "code",
   "execution_count": 103,
   "id": "b236ca2b",
   "metadata": {},
   "outputs": [],
   "source": [
    "# Testing data\n",
    "guessed_word = []\n",
    "count_letters()\n",
    "convert_chosen_word_to_be_guessed(\"chicken\")"
   ]
  },
  {
   "cell_type": "code",
   "execution_count": 104,
   "id": "fa9a3a62",
   "metadata": {},
   "outputs": [],
   "source": [
    "# More testing\n",
    "guess(\"i\")"
   ]
  },
  {
   "cell_type": "code",
   "execution_count": 105,
   "id": "3b0acf33",
   "metadata": {},
   "outputs": [],
   "source": [
    "guess(\"q\")"
   ]
  },
  {
   "cell_type": "code",
   "execution_count": 106,
   "id": "d38e9be3",
   "metadata": {},
   "outputs": [
    {
     "data": {
      "text/plain": [
       "['_', '_', 'i', '_', '_', '_', '_']"
      ]
     },
     "execution_count": 106,
     "metadata": {},
     "output_type": "execute_result"
    }
   ],
   "source": [
    "guessed_word"
   ]
  },
  {
   "cell_type": "code",
   "execution_count": 107,
   "id": "0df8ba75",
   "metadata": {},
   "outputs": [
    {
     "data": {
      "text/plain": [
       "1"
      ]
     },
     "execution_count": 107,
     "metadata": {},
     "output_type": "execute_result"
    }
   ],
   "source": [
    "mistakes"
   ]
  },
  {
   "cell_type": "code",
   "execution_count": 108,
   "id": "bf654679",
   "metadata": {},
   "outputs": [],
   "source": [
    "def start_game(convert_word):\n",
    "    global chosen_word\n",
    "    global guessed_word\n",
    "    \n",
    "    if(guessed_word == chosen_word):\n",
    "        # First we reset everything\n",
    "        chosen_word = []\n",
    "        guessed_word = []\n",
    "        \n",
    "        convert_chosen_word_to_be_guessed(convert_word)"
   ]
  },
  {
   "cell_type": "code",
   "execution_count": 109,
   "id": "fc1721aa",
   "metadata": {},
   "outputs": [],
   "source": [
    "guess(\"c\")\n",
    "guess(\"k\")\n",
    "guess(\"h\")\n",
    "guess(\"e\")"
   ]
  },
  {
   "cell_type": "code",
   "execution_count": 110,
   "id": "2a629186",
   "metadata": {},
   "outputs": [
    {
     "data": {
      "text/plain": [
       "['c', 'h', 'i', 'c', 'k', 'e', '_']"
      ]
     },
     "execution_count": 110,
     "metadata": {},
     "output_type": "execute_result"
    }
   ],
   "source": [
    "guessed_word"
   ]
  },
  {
   "cell_type": "code",
   "execution_count": 111,
   "id": "82bb3a91",
   "metadata": {},
   "outputs": [],
   "source": [
    "guess(\"n\")"
   ]
  },
  {
   "cell_type": "code",
   "execution_count": 112,
   "id": "545c1e79",
   "metadata": {},
   "outputs": [
    {
     "data": {
      "text/plain": [
       "['c', 'h', 'i', 'c', 'k', 'e', 'n']"
      ]
     },
     "execution_count": 112,
     "metadata": {},
     "output_type": "execute_result"
    }
   ],
   "source": [
    "guessed_word"
   ]
  },
  {
   "cell_type": "code",
   "execution_count": 113,
   "id": "570b9cd6",
   "metadata": {},
   "outputs": [],
   "source": [
    "start_game(\"dinosaur\")"
   ]
  },
  {
   "cell_type": "code",
   "execution_count": 114,
   "id": "08473e31",
   "metadata": {},
   "outputs": [
    {
     "data": {
      "text/plain": [
       "['d', 'i', 'n', 'o', 's', 'a', 'u', 'r']"
      ]
     },
     "execution_count": 114,
     "metadata": {},
     "output_type": "execute_result"
    }
   ],
   "source": [
    "chosen_word"
   ]
  },
  {
   "cell_type": "code",
   "execution_count": 115,
   "id": "0bfece40",
   "metadata": {},
   "outputs": [
    {
     "data": {
      "text/plain": [
       "['_', '_', '_', '_', '_', '_', '_', '_']"
      ]
     },
     "execution_count": 115,
     "metadata": {},
     "output_type": "execute_result"
    }
   ],
   "source": [
    "guessed_word"
   ]
  },
  {
   "cell_type": "markdown",
   "id": "4e7014d5",
   "metadata": {},
   "source": [
    "# 1. Class"
   ]
  },
  {
   "cell_type": "code",
   "execution_count": 26,
   "id": "ea337bf9",
   "metadata": {},
   "outputs": [],
   "source": [
    "class Game():\n",
    "    def __init__(self, mistakes, word_to_be_guessed, word_player_guessed, chosen_word):\n",
    "        self.mistakes = mistakes\n",
    "        self.word_to_be_guessed = word_to_be_guessed\n",
    "        self.word_player_guessed = word_player_guessed\n",
    "        self.chosen_word = chosen_word\n",
    "        \n",
    "        self.start_game()\n",
    "    \n",
    "    def start_game(self):\n",
    "        if(self.word_to_be_guessed == self.word_player_guessed):\n",
    "            # First we reset everything\n",
    "            self.word_to_be_guessed = []\n",
    "            self.word_player_guessed = []\n",
    "\n",
    "            self.convert_chosen_word_to_be_guessed(self.chosen_word)\n",
    "            \n",
    "    # Count how many letters need to be guessed\n",
    "    def count_letters(self):\n",
    "        total = 0\n",
    "\n",
    "        # i = char in word\n",
    "        for i in self.word_to_be_guessed:\n",
    "            if(i != \" \"):\n",
    "                total += 1\n",
    "\n",
    "        return total\n",
    "            \n",
    "    # Convert the each letter to an unrecognizable word that the player can guess\n",
    "    def convert_chosen_word_to_be_guessed(self, chosen_word):\n",
    "        for i in self.chosen_word:\n",
    "            if(i == \" \"):\n",
    "                self.word_to_be_guessed.append(' ')\n",
    "                self.word_player_guessed.append(' ')\n",
    "            else:\n",
    "                self.word_to_be_guessed.append(i)\n",
    "                self.word_player_guessed.append('_')\n",
    "    \n",
    "    def guess(self, guessed_letter):\n",
    "        # access the global name variable\n",
    "        is_guessed = self.try_revealing_letters_in_guessed_word(guessed_letter)\n",
    "\n",
    "        if(is_guessed == False):\n",
    "            self.mistakes += 1\n",
    "            \n",
    "    def make_a_guess(self, guessed_letter):\n",
    "        has_letter_been_found = False\n",
    "\n",
    "        for i in self.chosen_word:\n",
    "            # No space and the letter is in the word\n",
    "            if(i != \" \"):\n",
    "                if(i == guessed_letter):\n",
    "                    has_letter_been_found = True\n",
    "\n",
    "                    # Break statement stops the loop\n",
    "                    break\n",
    "\n",
    "        return has_letter_been_found\n",
    "            \n",
    "    def try_revealing_letters_in_guessed_word(self, guessed_letter):\n",
    "        is_guessed = self.make_a_guess(guessed_letter)\n",
    "\n",
    "        # We reveal the letters when the guess was succesfull\n",
    "        if(is_guessed):\n",
    "            for idx, i in enumerate(self.word_to_be_guessed):\n",
    "                if(i == guessed_letter):\n",
    "                    self.word_player_guessed[idx] = guessed_letter\n",
    "\n",
    "        return is_guessed\n",
    "    "
   ]
  },
  {
   "cell_type": "code",
   "execution_count": 27,
   "id": "042fcf45",
   "metadata": {},
   "outputs": [],
   "source": [
    "new_game = Game(0, [], [], \"zeester\")"
   ]
  },
  {
   "cell_type": "code",
   "execution_count": 28,
   "id": "b5f4e5f6",
   "metadata": {},
   "outputs": [
    {
     "data": {
      "text/plain": [
       "['z', 'e', 'e', 's', 't', 'e', 'r']"
      ]
     },
     "execution_count": 28,
     "metadata": {},
     "output_type": "execute_result"
    }
   ],
   "source": [
    "new_game.word_to_be_guessed"
   ]
  },
  {
   "cell_type": "code",
   "execution_count": 29,
   "id": "44bd1f49",
   "metadata": {},
   "outputs": [
    {
     "data": {
      "text/plain": [
       "['_', '_', '_', '_', '_', '_', '_']"
      ]
     },
     "execution_count": 29,
     "metadata": {},
     "output_type": "execute_result"
    }
   ],
   "source": [
    "new_game.word_player_guessed"
   ]
  },
  {
   "cell_type": "code",
   "execution_count": 30,
   "id": "e334cd1c",
   "metadata": {},
   "outputs": [
    {
     "data": {
      "text/plain": [
       "0"
      ]
     },
     "execution_count": 30,
     "metadata": {},
     "output_type": "execute_result"
    }
   ],
   "source": [
    "new_game.mistakes"
   ]
  },
  {
   "cell_type": "code",
   "execution_count": 31,
   "id": "a9eab4d9",
   "metadata": {},
   "outputs": [],
   "source": [
    "new_game.guess(\"e\")"
   ]
  },
  {
   "cell_type": "code",
   "execution_count": 32,
   "id": "1be58972",
   "metadata": {},
   "outputs": [
    {
     "data": {
      "text/plain": [
       "['_', 'e', 'e', '_', '_', 'e', '_']"
      ]
     },
     "execution_count": 32,
     "metadata": {},
     "output_type": "execute_result"
    }
   ],
   "source": [
    "new_game.word_player_guessed"
   ]
  },
  {
   "cell_type": "code",
   "execution_count": 33,
   "id": "e1e52117",
   "metadata": {},
   "outputs": [],
   "source": [
    "new_game.guess(\"x\")"
   ]
  },
  {
   "cell_type": "code",
   "execution_count": 34,
   "id": "ace36f5d",
   "metadata": {},
   "outputs": [
    {
     "data": {
      "text/plain": [
       "1"
      ]
     },
     "execution_count": 34,
     "metadata": {},
     "output_type": "execute_result"
    }
   ],
   "source": [
    "new_game.mistakes"
   ]
  },
  {
   "cell_type": "code",
   "execution_count": 35,
   "id": "a694970a",
   "metadata": {},
   "outputs": [],
   "source": [
    "new_game.guess(\"z\")\n",
    "new_game.guess(\"s\")\n",
    "new_game.guess(\"t\")\n",
    "new_game.guess(\"r\")"
   ]
  },
  {
   "cell_type": "code",
   "execution_count": 36,
   "id": "8ab48c51",
   "metadata": {},
   "outputs": [
    {
     "data": {
      "text/plain": [
       "['z', 'e', 'e', 's', 't', 'e', 'r']"
      ]
     },
     "execution_count": 36,
     "metadata": {},
     "output_type": "execute_result"
    }
   ],
   "source": [
    "new_game.word_player_guessed"
   ]
  },
  {
   "cell_type": "code",
   "execution_count": null,
   "id": "711eec88",
   "metadata": {},
   "outputs": [],
   "source": [
    "new_game = Game(\"hip\")"
   ]
  }
 ],
 "metadata": {
  "kernelspec": {
   "display_name": "Python 3 (ipykernel)",
   "language": "python",
   "name": "python3"
  },
  "language_info": {
   "codemirror_mode": {
    "name": "ipython",
    "version": 3
   },
   "file_extension": ".py",
   "mimetype": "text/x-python",
   "name": "python",
   "nbconvert_exporter": "python",
   "pygments_lexer": "ipython3",
   "version": "3.9.7"
  }
 },
 "nbformat": 4,
 "nbformat_minor": 5
}
