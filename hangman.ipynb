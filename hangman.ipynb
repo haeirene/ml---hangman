{
 "cells": [
  {
   "cell_type": "code",
   "execution_count": 198,
   "id": "b33ba733",
   "metadata": {},
   "outputs": [],
   "source": [
    "chosen_word = \"dog house\"\n",
    "guessed_word = []\n",
    "mistakes = 0"
   ]
  },
  {
   "cell_type": "code",
   "execution_count": 199,
   "id": "8bcd77aa",
   "metadata": {},
   "outputs": [],
   "source": [
    "# Count how many letters need to be guessed\n",
    "def count_letters():\n",
    "    total = 0\n",
    "    \n",
    "    # i = char in word\n",
    "    for i in chosen_word:\n",
    "        if(i != \" \"):\n",
    "            total += 1\n",
    "    \n",
    "    return total"
   ]
  },
  {
   "cell_type": "code",
   "execution_count": 200,
   "id": "1b110688",
   "metadata": {},
   "outputs": [],
   "source": [
    "# Convert the each letter to an unrecognizable word that the player can guess\n",
    "def convert_chosen_word_to_be_guessed():\n",
    "    for i in chosen_word:\n",
    "        if(i == \" \"):\n",
    "            guessed_word.append(' ')\n",
    "        else:\n",
    "            guessed_word.append('_')\n",
    "        "
   ]
  },
  {
   "cell_type": "code",
   "execution_count": 201,
   "id": "7849d6c1",
   "metadata": {},
   "outputs": [],
   "source": [
    "def make_a_guess(guessed_letter):\n",
    "    has_letter_been_found = False\n",
    "    \n",
    "    for i in chosen_word:\n",
    "        # No space and the letter is in the word\n",
    "        if(i != \" \"):\n",
    "            if(i == guessed_letter):\n",
    "                has_letter_been_found = True\n",
    "                \n",
    "                # Break statement stops the loop\n",
    "                break\n",
    "            \n",
    "    return has_letter_been_found"
   ]
  },
  {
   "cell_type": "code",
   "execution_count": 202,
   "id": "f1db1b13",
   "metadata": {},
   "outputs": [],
   "source": [
    "def try_revealing_letters_in_guessed_word(guessed_letter):\n",
    "    is_guessed = make_a_guess(guessed_letter)\n",
    "    \n",
    "    # We reveal the letters when the guess was succesfull\n",
    "    if(is_guessed):\n",
    "        for idx, i in enumerate(chosen_word):\n",
    "            if(i == guessed_letter):\n",
    "                guessed_word[idx] = guessed_letter\n",
    "    \n",
    "    return is_guessed\n",
    "    "
   ]
  },
  {
   "cell_type": "code",
   "execution_count": 215,
   "id": "1fd9f7a4",
   "metadata": {},
   "outputs": [],
   "source": [
    "def guess(guessed_letter):\n",
    "    # access the global name variable\n",
    "    global mistakes\n",
    "    \n",
    "    is_guessed = try_revealing_letters_in_guessed_word(guessed_letter)\n",
    "    \n",
    "    if(is_guessed == False):\n",
    "        mistakes += 1"
   ]
  },
  {
   "cell_type": "code",
   "execution_count": 216,
   "id": "b236ca2b",
   "metadata": {},
   "outputs": [
    {
     "name": "stdout",
     "output_type": "stream",
     "text": [
      "['_', '_', '_', ' ', '_', '_', '_', '_', '_']\n"
     ]
    }
   ],
   "source": [
    "# Testing data\n",
    "guessed_word = []\n",
    "count_letters()\n",
    "convert_chosen_word_to_be_guessed()\n",
    "print(guessed_word)"
   ]
  },
  {
   "cell_type": "code",
   "execution_count": 217,
   "id": "fa9a3a62",
   "metadata": {},
   "outputs": [],
   "source": [
    "# More testing\n",
    "guess(\"o\")"
   ]
  },
  {
   "cell_type": "code",
   "execution_count": 218,
   "id": "3b0acf33",
   "metadata": {},
   "outputs": [],
   "source": [
    "guess(\"x\")"
   ]
  },
  {
   "cell_type": "code",
   "execution_count": 219,
   "id": "d38e9be3",
   "metadata": {},
   "outputs": [
    {
     "data": {
      "text/plain": [
       "['_', 'o', '_', ' ', '_', 'o', '_', '_', '_']"
      ]
     },
     "execution_count": 219,
     "metadata": {},
     "output_type": "execute_result"
    }
   ],
   "source": [
    "guessed_word"
   ]
  },
  {
   "cell_type": "code",
   "execution_count": 220,
   "id": "0df8ba75",
   "metadata": {},
   "outputs": [
    {
     "data": {
      "text/plain": [
       "1"
      ]
     },
     "execution_count": 220,
     "metadata": {},
     "output_type": "execute_result"
    }
   ],
   "source": [
    "mistakes"
   ]
  },
  {
   "cell_type": "code",
   "execution_count": null,
   "id": "bf654679",
   "metadata": {},
   "outputs": [],
   "source": []
  }
 ],
 "metadata": {
  "kernelspec": {
   "display_name": "Python 3 (ipykernel)",
   "language": "python",
   "name": "python3"
  },
  "language_info": {
   "codemirror_mode": {
    "name": "ipython",
    "version": 3
   },
   "file_extension": ".py",
   "mimetype": "text/x-python",
   "name": "python",
   "nbconvert_exporter": "python",
   "pygments_lexer": "ipython3",
   "version": "3.9.7"
  }
 },
 "nbformat": 4,
 "nbformat_minor": 5
}
